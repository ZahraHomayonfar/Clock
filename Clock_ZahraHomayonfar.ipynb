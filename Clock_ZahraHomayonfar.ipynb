{
  "nbformat": 4,
  "nbformat_minor": 0,
  "metadata": {
    "colab": {
      "name": "Clock_ZahraHomayonfar.ipynb",
      "provenance": [],
      "collapsed_sections": [],
      "mount_file_id": "16kdCvxfOrG08ocHMttJABdetI3Kk4F7k",
      "authorship_tag": "ABX9TyM5FpIuctiI6FBL0k7uy8Zq",
      "include_colab_link": true
    },
    "kernelspec": {
      "name": "python3",
      "display_name": "Python 3"
    },
    "language_info": {
      "name": "python"
    }
  },
  "cells": [
    {
      "cell_type": "markdown",
      "metadata": {
        "id": "view-in-github",
        "colab_type": "text"
      },
      "source": [
        "<a href=\"https://colab.research.google.com/github/ZahraHomayonfar/Clock/blob/main/Clock_ZahraHomayonfar.ipynb\" target=\"_parent\"><img src=\"https://colab.research.google.com/assets/colab-badge.svg\" alt=\"Open In Colab\"/></a>"
      ]
    },
    {
      "cell_type": "markdown",
      "source": [
        "The purpose is to identify the time based on the image received from the user. The image is a clock that shows a specific time and minute. You need to write code that train a deep learning neural network based on the dataset images, then use the test data to measure the accuracy of the model,finally, give a sample image to the model and specify the time. "
      ],
      "metadata": {
        "id": "DQJEZ5af_aWc"
      }
    },
    {
      "cell_type": "markdown",
      "source": [
        "**1.Mount Google Drive**"
      ],
      "metadata": {
        "id": "xreGJMRq5pfY"
      }
    },
    {
      "cell_type": "code",
      "source": [
        "from google.colab import drive\n",
        "drive.mount('/content/gdrive')"
      ],
      "metadata": {
        "colab": {
          "base_uri": "https://localhost:8080/"
        },
        "id": "TxLj6LR5JyZo",
        "outputId": "e4e4d97d-f322-47ec-9fe1-b2763a540f3b"
      },
      "execution_count": null,
      "outputs": [
        {
          "output_type": "stream",
          "name": "stdout",
          "text": [
            "Mounted at /content/gdrive\n"
          ]
        }
      ]
    },
    {
      "cell_type": "markdown",
      "source": [
        "**2.Install tensorflow**"
      ],
      "metadata": {
        "id": "FYAbung7554P"
      }
    },
    {
      "cell_type": "code",
      "source": [
        "!pip install tensorflow==2.7.0"
      ],
      "metadata": {
        "colab": {
          "base_uri": "https://localhost:8080/"
        },
        "id": "VM0z3cOH6j0u",
        "outputId": "b1f64b89-029f-422d-f08a-abfaee48bc47"
      },
      "execution_count": null,
      "outputs": [
        {
          "output_type": "stream",
          "name": "stdout",
          "text": [
            "Looking in indexes: https://pypi.org/simple, https://us-python.pkg.dev/colab-wheels/public/simple/\n",
            "Requirement already satisfied: tensorflow==2.7.0 in /usr/local/lib/python3.7/dist-packages (2.7.0+zzzcolab20220506150900)\n",
            "Requirement already satisfied: numpy>=1.14.5 in /usr/local/lib/python3.7/dist-packages (from tensorflow==2.7.0) (1.21.6)\n",
            "Requirement already satisfied: opt-einsum>=2.3.2 in /usr/local/lib/python3.7/dist-packages (from tensorflow==2.7.0) (3.3.0)\n",
            "Requirement already satisfied: tensorboard~=2.6 in /usr/local/lib/python3.7/dist-packages (from tensorflow==2.7.0) (2.8.0)\n",
            "Requirement already satisfied: google-pasta>=0.1.1 in /usr/local/lib/python3.7/dist-packages (from tensorflow==2.7.0) (0.2.0)\n",
            "Requirement already satisfied: typing-extensions>=3.6.6 in /usr/local/lib/python3.7/dist-packages (from tensorflow==2.7.0) (4.2.0)\n",
            "Requirement already satisfied: gast<0.5.0,>=0.2.1 in /usr/local/lib/python3.7/dist-packages (from tensorflow==2.7.0) (0.4.0)\n",
            "Requirement already satisfied: termcolor>=1.1.0 in /usr/local/lib/python3.7/dist-packages (from tensorflow==2.7.0) (1.1.0)\n",
            "Requirement already satisfied: tensorflow-estimator<2.8,~=2.7.0rc0 in /usr/local/lib/python3.7/dist-packages (from tensorflow==2.7.0) (2.7.0)\n",
            "Requirement already satisfied: h5py>=2.9.0 in /usr/local/lib/python3.7/dist-packages (from tensorflow==2.7.0) (3.1.0)\n",
            "Requirement already satisfied: astunparse>=1.6.0 in /usr/local/lib/python3.7/dist-packages (from tensorflow==2.7.0) (1.6.3)\n",
            "Requirement already satisfied: keras<2.8,>=2.7.0rc0 in /usr/local/lib/python3.7/dist-packages (from tensorflow==2.7.0) (2.7.0)\n",
            "Requirement already satisfied: absl-py>=0.4.0 in /usr/local/lib/python3.7/dist-packages (from tensorflow==2.7.0) (1.0.0)\n",
            "Requirement already satisfied: wheel<1.0,>=0.32.0 in /usr/local/lib/python3.7/dist-packages (from tensorflow==2.7.0) (0.37.1)\n",
            "Requirement already satisfied: flatbuffers<3.0,>=1.12 in /usr/local/lib/python3.7/dist-packages (from tensorflow==2.7.0) (2.0)\n",
            "Requirement already satisfied: tensorflow-io-gcs-filesystem>=0.21.0 in /usr/local/lib/python3.7/dist-packages (from tensorflow==2.7.0) (0.26.0)\n",
            "Requirement already satisfied: six>=1.12.0 in /usr/local/lib/python3.7/dist-packages (from tensorflow==2.7.0) (1.15.0)\n",
            "Requirement already satisfied: libclang>=9.0.1 in /usr/local/lib/python3.7/dist-packages (from tensorflow==2.7.0) (14.0.1)\n",
            "Requirement already satisfied: grpcio<2.0,>=1.24.3 in /usr/local/lib/python3.7/dist-packages (from tensorflow==2.7.0) (1.46.3)\n",
            "Requirement already satisfied: keras-preprocessing>=1.1.1 in /usr/local/lib/python3.7/dist-packages (from tensorflow==2.7.0) (1.1.2)\n",
            "Requirement already satisfied: protobuf>=3.9.2 in /usr/local/lib/python3.7/dist-packages (from tensorflow==2.7.0) (3.17.3)\n",
            "Requirement already satisfied: wrapt>=1.11.0 in /usr/local/lib/python3.7/dist-packages (from tensorflow==2.7.0) (1.14.1)\n",
            "Requirement already satisfied: cached-property in /usr/local/lib/python3.7/dist-packages (from h5py>=2.9.0->tensorflow==2.7.0) (1.5.2)\n",
            "Requirement already satisfied: tensorboard-data-server<0.7.0,>=0.6.0 in /usr/local/lib/python3.7/dist-packages (from tensorboard~=2.6->tensorflow==2.7.0) (0.6.1)\n",
            "Requirement already satisfied: google-auth<3,>=1.6.3 in /usr/local/lib/python3.7/dist-packages (from tensorboard~=2.6->tensorflow==2.7.0) (1.35.0)\n",
            "Requirement already satisfied: requests<3,>=2.21.0 in /usr/local/lib/python3.7/dist-packages (from tensorboard~=2.6->tensorflow==2.7.0) (2.23.0)\n",
            "Requirement already satisfied: setuptools>=41.0.0 in /usr/local/lib/python3.7/dist-packages (from tensorboard~=2.6->tensorflow==2.7.0) (57.4.0)\n",
            "Requirement already satisfied: werkzeug>=0.11.15 in /usr/local/lib/python3.7/dist-packages (from tensorboard~=2.6->tensorflow==2.7.0) (1.0.1)\n",
            "Requirement already satisfied: tensorboard-plugin-wit>=1.6.0 in /usr/local/lib/python3.7/dist-packages (from tensorboard~=2.6->tensorflow==2.7.0) (1.8.1)\n",
            "Requirement already satisfied: markdown>=2.6.8 in /usr/local/lib/python3.7/dist-packages (from tensorboard~=2.6->tensorflow==2.7.0) (3.3.7)\n",
            "Requirement already satisfied: google-auth-oauthlib<0.5,>=0.4.1 in /usr/local/lib/python3.7/dist-packages (from tensorboard~=2.6->tensorflow==2.7.0) (0.4.6)\n",
            "Requirement already satisfied: cachetools<5.0,>=2.0.0 in /usr/local/lib/python3.7/dist-packages (from google-auth<3,>=1.6.3->tensorboard~=2.6->tensorflow==2.7.0) (4.2.4)\n",
            "Requirement already satisfied: pyasn1-modules>=0.2.1 in /usr/local/lib/python3.7/dist-packages (from google-auth<3,>=1.6.3->tensorboard~=2.6->tensorflow==2.7.0) (0.2.8)\n",
            "Requirement already satisfied: rsa<5,>=3.1.4 in /usr/local/lib/python3.7/dist-packages (from google-auth<3,>=1.6.3->tensorboard~=2.6->tensorflow==2.7.0) (4.8)\n",
            "Requirement already satisfied: requests-oauthlib>=0.7.0 in /usr/local/lib/python3.7/dist-packages (from google-auth-oauthlib<0.5,>=0.4.1->tensorboard~=2.6->tensorflow==2.7.0) (1.3.1)\n",
            "Requirement already satisfied: importlib-metadata>=4.4 in /usr/local/lib/python3.7/dist-packages (from markdown>=2.6.8->tensorboard~=2.6->tensorflow==2.7.0) (4.11.4)\n",
            "Requirement already satisfied: zipp>=0.5 in /usr/local/lib/python3.7/dist-packages (from importlib-metadata>=4.4->markdown>=2.6.8->tensorboard~=2.6->tensorflow==2.7.0) (3.8.0)\n",
            "Requirement already satisfied: pyasn1<0.5.0,>=0.4.6 in /usr/local/lib/python3.7/dist-packages (from pyasn1-modules>=0.2.1->google-auth<3,>=1.6.3->tensorboard~=2.6->tensorflow==2.7.0) (0.4.8)\n",
            "Requirement already satisfied: certifi>=2017.4.17 in /usr/local/lib/python3.7/dist-packages (from requests<3,>=2.21.0->tensorboard~=2.6->tensorflow==2.7.0) (2022.5.18.1)\n",
            "Requirement already satisfied: chardet<4,>=3.0.2 in /usr/local/lib/python3.7/dist-packages (from requests<3,>=2.21.0->tensorboard~=2.6->tensorflow==2.7.0) (3.0.4)\n",
            "Requirement already satisfied: idna<3,>=2.5 in /usr/local/lib/python3.7/dist-packages (from requests<3,>=2.21.0->tensorboard~=2.6->tensorflow==2.7.0) (2.10)\n",
            "Requirement already satisfied: urllib3!=1.25.0,!=1.25.1,<1.26,>=1.21.1 in /usr/local/lib/python3.7/dist-packages (from requests<3,>=2.21.0->tensorboard~=2.6->tensorflow==2.7.0) (1.24.3)\n",
            "Requirement already satisfied: oauthlib>=3.0.0 in /usr/local/lib/python3.7/dist-packages (from requests-oauthlib>=0.7.0->google-auth-oauthlib<0.5,>=0.4.1->tensorboard~=2.6->tensorflow==2.7.0) (3.2.0)\n"
          ]
        }
      ]
    },
    {
      "cell_type": "markdown",
      "source": [
        "**3.Import libraries**"
      ],
      "metadata": {
        "id": "LA7Tt8jk6HwP"
      }
    },
    {
      "cell_type": "code",
      "source": [
        "import numpy as np\n",
        "import pandas as pd\n",
        "from PIL import Image\n",
        "import matplotlib.pyplot as plt\n",
        "import keras\n",
        "from keras.models import Model\n",
        "from keras.layers import Conv2D, Flatten, Dense, Activation, AveragePooling2D , Dropout, Input, BatchNormalization\n",
        "import tensorflow as tf"
      ],
      "metadata": {
        "id": "v0FQQrlp4WoY"
      },
      "execution_count": null,
      "outputs": []
    },
    {
      "cell_type": "markdown",
      "source": [
        "**4.Create a function for the model**"
      ],
      "metadata": {
        "id": "grWqgsrh6lOI"
      }
    },
    {
      "cell_type": "code",
      "source": [
        "def ConvolutionalNeuralNetwork_Model():\n",
        "\n",
        "    inp_model = Input(shape=(100, 100, 1))\n",
        "\n",
        "    ##convolution and pooling layers\n",
        "    p = Conv2D(40, kernel_size=5, strides=1, activation='relu')(inp_model)\n",
        "    p = AveragePooling2D(pool_size=(2, 2), strides=2)(p)\n",
        "    p = BatchNormalization()(p)\n",
        "\n",
        "    p = Conv2D(80, kernel_size=3, strides=1, activation='relu')(p)\n",
        "    p = AveragePooling2D(pool_size=(2, 2))(p)\n",
        "    p = BatchNormalization()(p)\n",
        "\n",
        "    p = Conv2D(120, kernel_size=3, strides=1, activation='relu')(p)\n",
        "    p = AveragePooling2D(pool_size=(2, 2))(p)\n",
        "    p = BatchNormalization()(p)\n",
        "\n",
        "    p = Conv2D(160, kernel_size=3, strides=1, activation='relu')(p)\n",
        "    p = AveragePooling2D(pool_size=(2, 2))(p)\n",
        "    p = BatchNormalization()(p)\n",
        "\n",
        "    p = Conv2D(200, kernel_size=3, strides=1, activation='relu')(p)\n",
        "    p = Dropout(.4)(p)\n",
        "\n",
        "    p = Flatten()(p)\n",
        "\n",
        "    ##dense layers for hour\n",
        "    hour = Dense(144, activation='relu')(p)\n",
        "    hour = Dense(144, activation='relu')(hour)\n",
        "    hour = Dense(12, activation='softmax', name='hour')(hour)\n",
        "\n",
        "    ##dense layers for minute\n",
        "    minute = Dense(100, activation='relu')(p)\n",
        "    minute = Dense(200, activation='relu')(minute)\n",
        "    minute = Dense(60, activation='linear', name='minute')(minute)\n",
        "\n",
        "    model = Model(inputs=inp_model, outputs=[hour, minute])\n",
        "\n",
        "    return model"
      ],
      "metadata": {
        "id": "h7TNi4GscHTQ"
      },
      "execution_count": null,
      "outputs": []
    },
    {
      "cell_type": "markdown",
      "source": [
        "**5.Create a function for pre-processing images**"
      ],
      "metadata": {
        "id": "x3NO74B48cAO"
      }
    },
    {
      "cell_type": "code",
      "source": [
        "def preprocess(im):\n",
        "    \n",
        "    im = im/255\n",
        "    im -= .5\n",
        "    return im"
      ],
      "metadata": {
        "id": "e7DDw7iMfBEP"
      },
      "execution_count": null,
      "outputs": []
    },
    {
      "cell_type": "markdown",
      "source": [
        "**6.Create a function for load date batch**"
      ],
      "metadata": {
        "id": "OFfKorfl84p3"
      }
    },
    {
      "cell_type": "code",
      "source": [
        "def load_data_batch(ImageDS, batch_size=32, channel=1, im_size=100, path='data'):\n",
        "\n",
        "    data = pd.read_csv(path + '/label.csv')\n",
        "    path = path + '/images/'\n",
        "\n",
        "    image_batch = np.zeros((batch_size, im_size, im_size, channel))   \n",
        "    label_hour = np.zeros((batch_size, 1))\n",
        "    label_min = np.zeros((batch_size, 1))\n",
        "    batch = np.random.choice(ImageDS, batch_size)\n",
        "    \n",
        "    j = 0\n",
        "    for i in range(len(batch)):\n",
        "        \n",
        "        im = Image.open(path + str(batch[i]) + '.jpg').convert('L') \n",
        "        ##Syntax: Image.convert(mode=None, matrix=None, dither=None, palette=0, colors=256)\n",
        "        ##dither – Dithering method, used when converting from mode “RGB” to “P” or from “RGB” or “L” to “1”. Available methods are NONE or FLOYDSTEINBERG (default).\n",
        "            \n",
        "        im = im.resize((im_size,im_size), Image.ANTIALIAS)\n",
        "        im = np.array(im)\n",
        "        \n",
        "        image_batch[j] = preprocess(im).reshape((im_size, im_size, channel))\n",
        "        label_hour[j] = (data['hour'][data.index==batch[i]])\n",
        "        label_min[j] = (data['minute'][data.index==batch[i]])/60\n",
        "        j += 1\n",
        "          \n",
        "    return (np.array(image_batch), np.array(label_hour), np.array(label_min))"
      ],
      "metadata": {
        "id": "ZqW3A0ly9dzv"
      },
      "execution_count": null,
      "outputs": []
    },
    {
      "cell_type": "markdown",
      "source": [
        "**7.Create a function for predict**"
      ],
      "metadata": {
        "id": "3c0ac0ir-JS4"
      }
    },
    {
      "cell_type": "code",
      "source": [
        "def predict(ind):        \n",
        "        \n",
        "    im = Image.open(im_path + str(ind) + '.jpg')\n",
        "    plt.imshow(im)\n",
        "    print('Input image:')\n",
        "    plt.show()\n",
        "    im = im.convert('L')\n",
        "    im = im.resize((im_size,im_size), Image.ANTIALIAS)\n",
        "    im = np.array(im)\n",
        "    im = preprocess(im).reshape((1, im_size, im_size, channel))\n",
        "    time = model.predict(im)\n",
        "    hour = np.argmax(time[0])\n",
        "    minute = int(time[1][0][0]*60)\n",
        "    print('Predicted Time:', str(hour)+':'+str(minute))"
      ],
      "metadata": {
        "id": "BocagcUm4p4f"
      },
      "execution_count": null,
      "outputs": []
    },
    {
      "cell_type": "markdown",
      "source": [
        "**8.Give values to variables**"
      ],
      "metadata": {
        "id": "4twBWYMR-uT4"
      }
    },
    {
      "cell_type": "code",
      "source": [
        "channel = 1\n",
        "im_size = 100\n",
        "path = '/content/gdrive/My Drive/Clock'\n",
        "im_path = path + '/images/'"
      ],
      "metadata": {
        "id": "_v3z6zGOmaFu"
      },
      "execution_count": null,
      "outputs": []
    },
    {
      "cell_type": "markdown",
      "source": [
        "**9. Use load data batch function for our data**"
      ],
      "metadata": {
        "id": "mQi_zIJGIU_1"
      }
    },
    {
      "cell_type": "code",
      "source": [
        "train_size = 10000 ##The total number of database samples is 50,000\n",
        "test_size = 1000\n",
        "\n",
        "train = np.arange(train_size)\n",
        "test = np.arange(test_size) \n",
        "\n",
        "x_train, y1_train, y2_train = load_data_batch(train, len(train), channel, im_size, path )\n",
        "x_test, y1_test, y2_test = load_data_batch(test, len(test), channel, im_size, path )"
      ],
      "metadata": {
        "id": "eofuc7PTgCbO"
      },
      "execution_count": null,
      "outputs": []
    },
    {
      "cell_type": "markdown",
      "source": [
        "**10.Fitting model**"
      ],
      "metadata": {
        "id": "pehEEAn2IhoE"
      }
    },
    {
      "cell_type": "code",
      "source": [
        "model = ConvolutionalNeuralNetwork_Model()\n",
        "\n",
        "adam = tf.keras.optimizers.Adam(lr=.0001)\n",
        "model.compile(loss=['sparse_categorical_crossentropy', 'mse'], optimizer=adam, metrics=['accuracy', 'mae'])\n",
        "\n",
        "model.fit(x_train, [y1_train, y2_train], epochs=1, batch_size=256, validation_data=(x_test, [y1_test, y2_test]))"
      ],
      "metadata": {
        "colab": {
          "base_uri": "https://localhost:8080/"
        },
        "id": "_lcUCKb9u0qF",
        "outputId": "7bba23b0-f6d3-4ce5-f3f5-b6effe9c9e76"
      },
      "execution_count": null,
      "outputs": [
        {
          "output_type": "stream",
          "name": "stderr",
          "text": [
            "/usr/local/lib/python3.7/dist-packages/keras/optimizer_v2/adam.py:105: UserWarning: The `lr` argument is deprecated, use `learning_rate` instead.\n",
            "  super(Adam, self).__init__(name, **kwargs)\n"
          ]
        },
        {
          "output_type": "stream",
          "name": "stdout",
          "text": [
            "40/40 [==============================] - 265s 7s/step - loss: 2.8835 - hour_loss: 2.5594 - minute_loss: 0.3241 - hour_accuracy: 0.0899 - hour_mae: 5.4090 - minute_accuracy: 1.0000e-04 - minute_mae: 0.4573 - val_loss: 2.7648 - val_hour_loss: 2.4870 - val_minute_loss: 0.2778 - val_hour_accuracy: 0.0890 - val_hour_mae: 5.5230 - val_minute_accuracy: 0.0000e+00 - val_minute_mae: 0.4483\n"
          ]
        },
        {
          "output_type": "execute_result",
          "data": {
            "text/plain": [
              "<keras.callbacks.History at 0x7ff619c56250>"
            ]
          },
          "metadata": {},
          "execution_count": 13
        }
      ]
    },
    {
      "cell_type": "markdown",
      "source": [
        "**11.Prediction for one sample**"
      ],
      "metadata": {
        "id": "1ohz75wDI76F"
      }
    },
    {
      "cell_type": "code",
      "source": [
        "predict(test[28])"
      ],
      "metadata": {
        "colab": {
          "base_uri": "https://localhost:8080/",
          "height": 304
        },
        "id": "PSwt4v-Fza9N",
        "outputId": "d69d84a4-ffb1-4d57-fbab-245ee38b1ade"
      },
      "execution_count": null,
      "outputs": [
        {
          "output_type": "stream",
          "name": "stdout",
          "text": [
            "Input image:\n"
          ]
        },
        {
          "output_type": "display_data",
          "data": {
            "text/plain": [
              "<Figure size 432x288 with 1 Axes>"
            ],
            "image/png": "[encoded data removed]"
          },
          "metadata": {
            "needs_background": "light"
          }
        },
        {
          "output_type": "stream",
          "name": "stdout",
          "text": [
            "Predicted Time: 10:3\n"
          ]
        }
      ]
    },
    {
      "cell_type": "markdown",
      "source": [
        "https://colab.research.google.com/drive/16kdCvxfOrG08ocHMttJABdetI3Kk4F7k?usp=sharing"
      ],
      "metadata": {
        "id": "DZucfYaPcaMO"
      }
    }
  ]
}